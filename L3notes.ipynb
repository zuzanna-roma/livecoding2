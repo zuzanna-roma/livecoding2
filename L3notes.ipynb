{
 "cells": [
  {
   "cell_type": "markdown",
   "id": "fc21b1f7-9309-4312-8f4f-55a1bc6d6cd2",
   "metadata": {
    "tags": []
   },
   "source": [
    "## This notebook contains notes from lesson 3 Part 1 Deeplearning for coders Fastai"
   ]
  },
  {
   "cell_type": "markdown",
   "id": "d3b0fa72-d756-44db-a38f-1a62a4c3d7e8",
   "metadata": {},
   "source": [
    "there are roghly in Pytorch image library 500 models architectures.\n",
    "in this file you can find comparison made by Jamie: https://www.kaggle.com/code/jhoward/which-image-models-are-best/"
   ]
  },
  {
   "cell_type": "markdown",
   "id": "bcd20337-70e3-4296-bcc4-ed80343228b8",
   "metadata": {
    "tags": []
   },
   "source": [
    "the most important features of a model architecture is:\n",
    "- how fast it is\n",
    "- how accurate it is\n",
    "- how much memory do it uses"
   ]
  },
  {
   "cell_type": "markdown",
   "id": "b7516a77-4595-4595-81cd-e63f00f2c132",
   "metadata": {},
   "source": [
    "learn = vision_learner(dls, resnet34, metrics=error_rate) - in case of my first model (peppers classifier) resnet34 is not as a string, cause it forms a part of fastai library, but this library is limited, if we want to use a model architecture from e.g Pytorch we need to import timm and then put the model in a strong like this:\n",
    "\n",
    "import timm\n",
    "learn = vision_learner(dls, 'convnext_tiny_in22k', metrics=error_rate)"
   ]
  },
  {
   "cell_type": "markdown",
   "id": "d5406231-dd1a-4a12-af63-b6d5e3ad543b",
   "metadata": {},
   "source": [
    "to check the parameters of the model (and the architecture in general) do:\n",
    " <br>`m=learn.model` <br> `m`"
   ]
  },
  {
   "cell_type": "markdown",
   "id": "098c0fa1-34a8-4e79-8dea-6dee5669de25",
   "metadata": {
    "tags": []
   },
   "source": [
    "and then <br> \n",
    "`l=m.get_submodule('0.model.stem.1')` <br>\n",
    "`list(l.parmeters())`"
   ]
  },
  {
   "cell_type": "markdown",
   "id": "d964a714-74e9-441f-9fe3-8dbf81dc4394",
   "metadata": {},
   "source": [
    "code below imports interact widget that allowes you to interact with parameters through sliders - might be useful at some point\n"
   ]
  },
  {
   "cell_type": "code",
   "execution_count": 2,
   "id": "6b4f8ba9-762c-4c35-bb2c-c676179b4755",
   "metadata": {
    "tags": []
   },
   "outputs": [
    {
     "ename": "SyntaxError",
     "evalue": "incomplete input (4290675816.py, line 2)",
     "output_type": "error",
     "traceback": [
      "\u001b[0;36m  Cell \u001b[0;32mIn[2], line 2\u001b[0;36m\u001b[0m\n\u001b[0;31m    @interact(a=1,b=3,c=5)\u001b[0m\n\u001b[0m                          ^\u001b[0m\n\u001b[0;31mSyntaxError\u001b[0m\u001b[0;31m:\u001b[0m incomplete input\n"
     ]
    }
   ],
   "source": [
    "from ipywitgets import interact\n",
    "@interact(a=1,b=3,c=5)"
   ]
  },
  {
   "cell_type": "markdown",
   "id": "f5194fb1-6fd5-480a-b143-8f1d597509f8",
   "metadata": {},
   "source": [
    "optimazation - procedures that make you have smaller and smaller loss (usually usinggradient descent)"
   ]
  },
  {
   "cell_type": "markdown",
   "id": "d7cf0bb5-5174-4fe4-ba03-ce09bfc9349b",
   "metadata": {},
   "source": [
    "funcion below returns a relu that is cut off at 0, so everything that is equal to zero or below 0 will take the value 0"
   ]
  },
  {
   "cell_type": "code",
   "execution_count": null,
   "id": "b7912bd2-de85-40a0-8e9b-b8bf54de8159",
   "metadata": {},
   "outputs": [],
   "source": [
    "def rectified_linear(m,b,x):\n",
    "    y=mx+b\n",
    "    return torch.clip(y,0.)"
   ]
  },
  {
   "cell_type": "markdown",
   "id": "869830c7-7b41-4e95-bab7-eda1d07e0852",
   "metadata": {},
   "source": [
    "We can combine as many relus as we want, and then you can do it through as many dimentions as you want"
   ]
  },
  {
   "cell_type": "markdown",
   "id": "eb654136-f31e-4399-9214-b140301db1e1",
   "metadata": {
    "tags": []
   },
   "source": [
    "THIS IS WHAT DEEP LEARNING IS ESSENTIALLY: We are using gradient descent to set some parameters to make a functions (additions of many relus basically, usually) to match your data"
   ]
  },
  {
   "cell_type": "code",
   "execution_count": null,
   "id": "43aa5abd-b341-4ba7-8c26-86eaf4b368cc",
   "metadata": {},
   "outputs": [],
   "source": []
  }
 ],
 "metadata": {
  "kernelspec": {
   "display_name": "Python 3 (ipykernel)",
   "language": "python",
   "name": "python3"
  },
  "language_info": {
   "codemirror_mode": {
    "name": "ipython",
    "version": 3
   },
   "file_extension": ".py",
   "mimetype": "text/x-python",
   "name": "python",
   "nbconvert_exporter": "python",
   "pygments_lexer": "ipython3",
   "version": "3.10.10"
  }
 },
 "nbformat": 4,
 "nbformat_minor": 5
}
