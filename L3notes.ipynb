{
 "cells": [
  {
   "cell_type": "markdown",
   "id": "fc21b1f7-9309-4312-8f4f-55a1bc6d6cd2",
   "metadata": {
    "tags": []
   },
   "source": [
    "## This notebook contains notes from lesson 3 Part 1 Deeplearning for coders Fastai"
   ]
  },
  {
   "cell_type": "markdown",
   "id": "d3b0fa72-d756-44db-a38f-1a62a4c3d7e8",
   "metadata": {},
   "source": [
    "there are roghly in Pytorch image library 500 models architectures.\n",
    "in this file you can find comparison made by Jamie: https://www.kaggle.com/code/jhoward/which-image-models-are-best/"
   ]
  },
  {
   "cell_type": "markdown",
   "id": "bcd20337-70e3-4296-bcc4-ed80343228b8",
   "metadata": {
    "tags": []
   },
   "source": [
    "the most important features of a model architecture is:\n",
    "- how fast it is\n",
    "- how accurate it is\n",
    "- how much memory do it uses"
   ]
  },
  {
   "cell_type": "markdown",
   "id": "b7516a77-4595-4595-81cd-e63f00f2c132",
   "metadata": {},
   "source": [
    "learn = vision_learner(dls, resnet34, metrics=error_rate) - in case of my first model (peppers classifier) resnet34 is not as a string, cause it forms a part of fastai library, but this library is limited, if we want to use a model architecture from e.g Pytorch we need to import timm and then put the model in a strong like this:\n",
    "\n",
    "import timm\n",
    "learn = vision_learner(dls, 'convnext_tiny_in22k', metrics=error_rate)"
   ]
  },
  {
   "cell_type": "code",
   "execution_count": null,
   "id": "f50191e6-5b68-4ffc-9b66-5ddf36d85035",
   "metadata": {},
   "outputs": [],
   "source": []
  }
 ],
 "metadata": {
  "kernelspec": {
   "display_name": "Python 3 (ipykernel)",
   "language": "python",
   "name": "python3"
  },
  "language_info": {
   "codemirror_mode": {
    "name": "ipython",
    "version": 3
   },
   "file_extension": ".py",
   "mimetype": "text/x-python",
   "name": "python",
   "nbconvert_exporter": "python",
   "pygments_lexer": "ipython3",
   "version": "3.10.10"
  }
 },
 "nbformat": 4,
 "nbformat_minor": 5
}
